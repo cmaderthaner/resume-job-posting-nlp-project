{
 "cells": [
  {
   "cell_type": "markdown",
   "metadata": {},
   "source": [
    "# Read HTML files"
   ]
  },
  {
   "cell_type": "code",
   "execution_count": 1,
   "metadata": {},
   "outputs": [],
   "source": [
    "import re\n",
    "import os\n",
    "from bs4 import BeautifulSoup as bs\n",
    "import pandas as pd"
   ]
  },
  {
   "cell_type": "code",
   "execution_count": 2,
   "metadata": {},
   "outputs": [],
   "source": [
    "os.chdir('E:\\\\liveproject\\html_job_postings')"
   ]
  },
  {
   "cell_type": "code",
   "execution_count": 3,
   "metadata": {},
   "outputs": [],
   "source": [
    "# os.listdir(os.curdir)"
   ]
  },
  {
   "cell_type": "code",
   "execution_count": 4,
   "metadata": {},
   "outputs": [],
   "source": [
    "data = pd.DataFrame(columns=['title', 'qualifications'])"
   ]
  },
  {
   "cell_type": "code",
   "execution_count": 29,
   "metadata": {},
   "outputs": [],
   "source": [
    "with os.scandir(\".\") as postings:\n",
    "    for index, posting in enumerate(postings, start=1):\n",
    "        # print(\"{}: {}\".format(index, posting))\n",
    "        content = bs(open(posting, encoding=\"utf8\"))\n",
    "        qualifications_header = content.find('p', string=re.compile(\"(?i)qualification.*\"))\n",
    "        if qualifications_header != None:\n",
    "            qualifications = qualifications_header.next_sibling\n",
    "        data.loc[index] = { \"title\": content.find('title').text, \n",
    "                           \"qualifications\": qualifications }\n",
    "        "
   ]
  },
  {
   "cell_type": "code",
   "execution_count": 27,
   "metadata": {},
   "outputs": [
    {
     "name": "stdout",
     "output_type": "stream",
     "text": [
      "                                                  title  \\\n",
      "1                    Data Engineer - Columbus, GA 31909   \n",
      "2                          Data Analyst - St. Louis, MO   \n",
      "3                           Data Scientist - Newark, CA   \n",
      "4     Patient Care Assistant / PCA - Med/Surg (Fayet...   \n",
      "5                  Scientific Programmer - Berkeley, CA   \n",
      "...                                                 ...   \n",
      "1333                    Data Scientist - Glen Mills, PA   \n",
      "1334              Data Analyst (Part-Time) - Austin, TX   \n",
      "1335  Manager - Business Development (Central and Ea...   \n",
      "1336  Natural Language Processing Undergraduate Inte...   \n",
      "1337  Director, Data Scientist, Natural Language Pro...   \n",
      "\n",
      "                                         qualifications  \n",
      "1     [[Bachelor’s or Master’s degree in statistics,...  \n",
      "2     [\\nDESIRABLE QUALIFICATION CRITERIA: In additi...  \n",
      "3     [\\nDESIRABLE QUALIFICATION CRITERIA: In additi...  \n",
      "4     [\\nDESIRABLE QUALIFICATION CRITERIA: In additi...  \n",
      "5     [\\nDESIRABLE QUALIFICATION CRITERIA: In additi...  \n",
      "...                                                 ...  \n",
      "1333                                                 \\n  \n",
      "1334                                                 \\n  \n",
      "1335                                                 \\n  \n",
      "1336                                                 \\n  \n",
      "1337  [[\\nMinimum of ten years of experience leading...  \n",
      "\n",
      "[1337 rows x 2 columns]\n"
     ]
    }
   ],
   "source": [
    "print(data)"
   ]
  }
 ],
 "metadata": {
  "kernelspec": {
   "display_name": "Python 3",
   "language": "python",
   "name": "python3"
  },
  "language_info": {
   "codemirror_mode": {
    "name": "ipython",
    "version": 3
   },
   "file_extension": ".py",
   "mimetype": "text/x-python",
   "name": "python",
   "nbconvert_exporter": "python",
   "pygments_lexer": "ipython3",
   "version": "3.7.4"
  }
 },
 "nbformat": 4,
 "nbformat_minor": 2
}
