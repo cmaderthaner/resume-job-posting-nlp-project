{
 "cells": [
  {
   "cell_type": "code",
   "execution_count": 1,
   "metadata": {},
   "outputs": [],
   "source": [
    "import glob\n",
    "\n",
    "import pandas as pd\n",
    "from bs4 import BeautifulSoup as bs"
   ]
  },
  {
   "cell_type": "code",
   "execution_count": 2,
   "metadata": {},
   "outputs": [],
   "source": [
    "# get a list of the files in the html directory\n",
    "files = glob.glob('E:\\\\liveproject\\\\job-postings\\\\html_job_postings\\\\*.html')"
   ]
  },
  {
   "cell_type": "code",
   "execution_count": 3,
   "metadata": {},
   "outputs": [
    {
     "data": {
      "text/plain": [
       "1337"
      ]
     },
     "execution_count": 3,
     "metadata": {},
     "output_type": "execute_result"
    }
   ],
   "source": [
    "len(files)"
   ]
  },
  {
   "cell_type": "code",
   "execution_count": 4,
   "metadata": {},
   "outputs": [],
   "source": [
    "# load all HTML pages as text into a list -- one entry per HTML page\n",
    "html_content = []\n",
    "for file in files:\n",
    "    with open(file, 'r', encoding=\"utf8\") as f:\n",
    "        html_content.append(f.read())"
   ]
  },
  {
   "cell_type": "code",
   "execution_count": 5,
   "metadata": {},
   "outputs": [],
   "source": [
    "# inspect the first entry to make sure it looks ok\n",
    "# html_content[1336]"
   ]
  },
  {
   "cell_type": "code",
   "execution_count": 6,
   "metadata": {},
   "outputs": [],
   "source": [
    "# We use a dictionary to store data, which can easily be converted to a pandas DataFrame\n",
    "html_dict = {}\n",
    "for key in ['title', 'body', 'bullets']:\n",
    "    html_dict[key] = []\n",
    "    \n",
    "# use first page for prototyping the code\n",
    "first_page = html_content[0]\n",
    "# converting the text to a beautifulsoup object makes it easily searchable\n",
    "soup = bs(first_page, 'lxml')\n",
    "title = soup.find('title').text\n",
    "body = soup.find('body').text\n",
    "bullets = soup.find_all('li')\n",
    "html_dict['title'].append(title)\n",
    "html_dict['body'].append(body)\n",
    "# remove extra leading and trailing whitespace with strip()\n",
    "html_dict['bullets'].append([b.text.strip() for b in bullets])\n",
    "\n",
    "df = pd.DataFrame(data = html_dict)"
   ]
  },
  {
   "cell_type": "code",
   "execution_count": 7,
   "metadata": {},
   "outputs": [
    {
     "data": {
      "text/html": [
       "<div>\n",
       "<style scoped>\n",
       "    .dataframe tbody tr th:only-of-type {\n",
       "        vertical-align: middle;\n",
       "    }\n",
       "\n",
       "    .dataframe tbody tr th {\n",
       "        vertical-align: top;\n",
       "    }\n",
       "\n",
       "    .dataframe thead th {\n",
       "        text-align: right;\n",
       "    }\n",
       "</style>\n",
       "<table border=\"1\" class=\"dataframe\">\n",
       "  <thead>\n",
       "    <tr style=\"text-align: right;\">\n",
       "      <th></th>\n",
       "      <th>title</th>\n",
       "      <th>body</th>\n",
       "      <th>bullets</th>\n",
       "    </tr>\n",
       "  </thead>\n",
       "  <tbody>\n",
       "    <tr>\n",
       "      <td>0</td>\n",
       "      <td>Data Engineer - Columbus, GA 31909</td>\n",
       "      <td>Data Engineer - Columbus, GA 31909\\nCelebratin...</td>\n",
       "      <td>[Bachelor’s or Master’s degree in statistics, ...</td>\n",
       "    </tr>\n",
       "  </tbody>\n",
       "</table>\n",
       "</div>"
      ],
      "text/plain": [
       "                                title  \\\n",
       "0  Data Engineer - Columbus, GA 31909   \n",
       "\n",
       "                                                body  \\\n",
       "0  Data Engineer - Columbus, GA 31909\\nCelebratin...   \n",
       "\n",
       "                                             bullets  \n",
       "0  [Bachelor’s or Master’s degree in statistics, ...  "
      ]
     },
     "execution_count": 7,
     "metadata": {},
     "output_type": "execute_result"
    }
   ],
   "source": [
    "df.head()"
   ]
  },
  {
   "cell_type": "code",
   "execution_count": 8,
   "metadata": {},
   "outputs": [],
   "source": [
    "def get_html_content(html_pages):\n",
    "    \"\"\"\n",
    "    Extracts title, body, and list items (bullets) from HTML job postings.\n",
    "    Returns a pandas dataframe with separate columns for title, body, and bullet items.\n",
    "    \"\"\"\n",
    "    html_dict = {}\n",
    "    for key in ['title', 'body', 'bullets']:\n",
    "        html_dict[key] = []\n",
    "        \n",
    "    for html in html_pages:\n",
    "        soup = bs(html, 'lxml')\n",
    "        title = soup.find('title').text\n",
    "        body = soup.find('body').text\n",
    "        bullets = soup.find_all('li')\n",
    "        html_dict['title'].append(title)\n",
    "        html_dict['body'].append(body)\n",
    "        # remove extra leading and trailing whitespace with strip()\n",
    "        html_dict['bullets'].append([b.text.strip() for b in bullets])\n",
    "\n",
    "    df = pd.DataFrame(html_dict)\n",
    "\n",
    "    return df"
   ]
  },
  {
   "cell_type": "code",
   "execution_count": 9,
   "metadata": {},
   "outputs": [],
   "source": [
    "df = get_html_content(html_content)"
   ]
  },
  {
   "cell_type": "code",
   "execution_count": 10,
   "metadata": {},
   "outputs": [
    {
     "data": {
      "text/html": [
       "<div>\n",
       "<style scoped>\n",
       "    .dataframe tbody tr th:only-of-type {\n",
       "        vertical-align: middle;\n",
       "    }\n",
       "\n",
       "    .dataframe tbody tr th {\n",
       "        vertical-align: top;\n",
       "    }\n",
       "\n",
       "    .dataframe thead th {\n",
       "        text-align: right;\n",
       "    }\n",
       "</style>\n",
       "<table border=\"1\" class=\"dataframe\">\n",
       "  <thead>\n",
       "    <tr style=\"text-align: right;\">\n",
       "      <th></th>\n",
       "      <th>title</th>\n",
       "      <th>body</th>\n",
       "      <th>bullets</th>\n",
       "    </tr>\n",
       "  </thead>\n",
       "  <tbody>\n",
       "    <tr>\n",
       "      <td>0</td>\n",
       "      <td>Data Engineer - Columbus, GA 31909</td>\n",
       "      <td>Data Engineer - Columbus, GA 31909\\nCelebratin...</td>\n",
       "      <td>[Bachelor’s or Master’s degree in statistics, ...</td>\n",
       "    </tr>\n",
       "    <tr>\n",
       "      <td>1</td>\n",
       "      <td>Data Analyst - St. Louis, MO</td>\n",
       "      <td>Data Analyst - St. Louis, MO\\nDuties\\nSummary\\...</td>\n",
       "      <td>[Job family (Series)\\n1501 General Mathematics...</td>\n",
       "    </tr>\n",
       "    <tr>\n",
       "      <td>2</td>\n",
       "      <td>Data Scientist - Newark, CA</td>\n",
       "      <td>Data Scientist - Newark, CA\\nData Scientist\\n\\...</td>\n",
       "      <td>[Design, develop, document and maintain machin...</td>\n",
       "    </tr>\n",
       "    <tr>\n",
       "      <td>3</td>\n",
       "      <td>Patient Care Assistant / PCA - Med/Surg (Fayet...</td>\n",
       "      <td>Patient Care Assistant / PCA - Med/Surg (Fayet...</td>\n",
       "      <td>[Provides all personal care services in accord...</td>\n",
       "    </tr>\n",
       "    <tr>\n",
       "      <td>4</td>\n",
       "      <td>Scientific Programmer - Berkeley, CA</td>\n",
       "      <td>Scientific Programmer - Berkeley, CA\\nCaribou ...</td>\n",
       "      <td>[Demonstrated proficiency with Python, JavaScr...</td>\n",
       "    </tr>\n",
       "  </tbody>\n",
       "</table>\n",
       "</div>"
      ],
      "text/plain": [
       "                                               title  \\\n",
       "0                 Data Engineer - Columbus, GA 31909   \n",
       "1                       Data Analyst - St. Louis, MO   \n",
       "2                        Data Scientist - Newark, CA   \n",
       "3  Patient Care Assistant / PCA - Med/Surg (Fayet...   \n",
       "4               Scientific Programmer - Berkeley, CA   \n",
       "\n",
       "                                                body  \\\n",
       "0  Data Engineer - Columbus, GA 31909\\nCelebratin...   \n",
       "1  Data Analyst - St. Louis, MO\\nDuties\\nSummary\\...   \n",
       "2  Data Scientist - Newark, CA\\nData Scientist\\n\\...   \n",
       "3  Patient Care Assistant / PCA - Med/Surg (Fayet...   \n",
       "4  Scientific Programmer - Berkeley, CA\\nCaribou ...   \n",
       "\n",
       "                                             bullets  \n",
       "0  [Bachelor’s or Master’s degree in statistics, ...  \n",
       "1  [Job family (Series)\\n1501 General Mathematics...  \n",
       "2  [Design, develop, document and maintain machin...  \n",
       "3  [Provides all personal care services in accord...  \n",
       "4  [Demonstrated proficiency with Python, JavaScr...  "
      ]
     },
     "execution_count": 10,
     "metadata": {},
     "output_type": "execute_result"
    }
   ],
   "source": [
    "df.head()"
   ]
  },
  {
   "cell_type": "code",
   "execution_count": 11,
   "metadata": {},
   "outputs": [
    {
     "data": {
      "text/plain": [
       "(1337, 3)"
      ]
     },
     "execution_count": 11,
     "metadata": {},
     "output_type": "execute_result"
    }
   ],
   "source": [
    "df.shape"
   ]
  },
  {
   "cell_type": "code",
   "execution_count": 12,
   "metadata": {},
   "outputs": [],
   "source": [
    "df['bullets'] = df['bullets'].apply(tuple, 1)"
   ]
  },
  {
   "cell_type": "code",
   "execution_count": 13,
   "metadata": {},
   "outputs": [
    {
     "data": {
      "text/plain": [
       "(1328, 3)"
      ]
     },
     "execution_count": 13,
     "metadata": {},
     "output_type": "execute_result"
    }
   ],
   "source": [
    "df.drop_duplicates(inplace=True)\n",
    "df.shape"
   ]
  },
  {
   "cell_type": "code",
   "execution_count": 14,
   "metadata": {},
   "outputs": [],
   "source": [
    "df.to_pickle('step_df.pk')"
   ]
  }
 ],
 "metadata": {
  "kernelspec": {
   "display_name": "Python 3",
   "language": "python",
   "name": "python3"
  },
  "language_info": {
   "codemirror_mode": {
    "name": "ipython",
    "version": 3
   },
   "file_extension": ".py",
   "mimetype": "text/x-python",
   "name": "python",
   "nbconvert_exporter": "python",
   "pygments_lexer": "ipython3",
   "version": "3.7.4"
  }
 },
 "nbformat": 4,
 "nbformat_minor": 2
}
