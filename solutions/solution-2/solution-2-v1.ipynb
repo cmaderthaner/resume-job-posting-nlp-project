{
 "cells": [
  {
   "cell_type": "code",
   "execution_count": 1,
   "metadata": {},
   "outputs": [],
   "source": [
    "import numpy as np\n",
    "import pandas as pd\n",
    "\n",
    "from sklearn.feature_extraction.text import TfidfVectorizer\n",
    "from sklearn.decomposition import TruncatedSVD\n",
    "from sklearn.preprocessing import normalize"
   ]
  },
  {
   "cell_type": "markdown",
   "metadata": {},
   "source": [
    "Read the results from previous solution"
   ]
  },
  {
   "cell_type": "code",
   "execution_count": 2,
   "metadata": {},
   "outputs": [
    {
     "data": {
      "text/plain": [
       "(1328, 3)"
      ]
     },
     "execution_count": 2,
     "metadata": {},
     "output_type": "execute_result"
    }
   ],
   "source": [
    "df = pd.read_pickle('../solution-1/step_df.pk')\n",
    "df.shape"
   ]
  },
  {
   "cell_type": "code",
   "execution_count": 3,
   "metadata": {
    "scrolled": true
   },
   "outputs": [
    {
     "data": {
      "text/html": [
       "<div>\n",
       "<style scoped>\n",
       "    .dataframe tbody tr th:only-of-type {\n",
       "        vertical-align: middle;\n",
       "    }\n",
       "\n",
       "    .dataframe tbody tr th {\n",
       "        vertical-align: top;\n",
       "    }\n",
       "\n",
       "    .dataframe thead th {\n",
       "        text-align: right;\n",
       "    }\n",
       "</style>\n",
       "<table border=\"1\" class=\"dataframe\">\n",
       "  <thead>\n",
       "    <tr style=\"text-align: right;\">\n",
       "      <th></th>\n",
       "      <th>title</th>\n",
       "      <th>body</th>\n",
       "      <th>bullets</th>\n",
       "    </tr>\n",
       "  </thead>\n",
       "  <tbody>\n",
       "    <tr>\n",
       "      <td>0</td>\n",
       "      <td>Data Engineer - Columbus, GA 31909</td>\n",
       "      <td>Data Engineer - Columbus, GA 31909\\nCelebratin...</td>\n",
       "      <td>(Bachelor’s or Master’s degree in statistics, ...</td>\n",
       "    </tr>\n",
       "    <tr>\n",
       "      <td>1</td>\n",
       "      <td>Data Analyst - St. Louis, MO</td>\n",
       "      <td>Data Analyst - St. Louis, MO\\nDuties\\nSummary\\...</td>\n",
       "      <td>(Job family (Series)\\n1501 General Mathematics...</td>\n",
       "    </tr>\n",
       "    <tr>\n",
       "      <td>2</td>\n",
       "      <td>Data Scientist - Newark, CA</td>\n",
       "      <td>Data Scientist - Newark, CA\\nData Scientist\\n\\...</td>\n",
       "      <td>(Design, develop, document and maintain machin...</td>\n",
       "    </tr>\n",
       "    <tr>\n",
       "      <td>3</td>\n",
       "      <td>Patient Care Assistant / PCA - Med/Surg (Fayet...</td>\n",
       "      <td>Patient Care Assistant / PCA - Med/Surg (Fayet...</td>\n",
       "      <td>(Provides all personal care services in accord...</td>\n",
       "    </tr>\n",
       "    <tr>\n",
       "      <td>4</td>\n",
       "      <td>Scientific Programmer - Berkeley, CA</td>\n",
       "      <td>Scientific Programmer - Berkeley, CA\\nCaribou ...</td>\n",
       "      <td>(Demonstrated proficiency with Python, JavaScr...</td>\n",
       "    </tr>\n",
       "  </tbody>\n",
       "</table>\n",
       "</div>"
      ],
      "text/plain": [
       "                                               title  \\\n",
       "0                 Data Engineer - Columbus, GA 31909   \n",
       "1                       Data Analyst - St. Louis, MO   \n",
       "2                        Data Scientist - Newark, CA   \n",
       "3  Patient Care Assistant / PCA - Med/Surg (Fayet...   \n",
       "4               Scientific Programmer - Berkeley, CA   \n",
       "\n",
       "                                                body  \\\n",
       "0  Data Engineer - Columbus, GA 31909\\nCelebratin...   \n",
       "1  Data Analyst - St. Louis, MO\\nDuties\\nSummary\\...   \n",
       "2  Data Scientist - Newark, CA\\nData Scientist\\n\\...   \n",
       "3  Patient Care Assistant / PCA - Med/Surg (Fayet...   \n",
       "4  Scientific Programmer - Berkeley, CA\\nCaribou ...   \n",
       "\n",
       "                                             bullets  \n",
       "0  (Bachelor’s or Master’s degree in statistics, ...  \n",
       "1  (Job family (Series)\\n1501 General Mathematics...  \n",
       "2  (Design, develop, document and maintain machin...  \n",
       "3  (Provides all personal care services in accord...  \n",
       "4  (Demonstrated proficiency with Python, JavaScr...  "
      ]
     },
     "execution_count": 3,
     "metadata": {},
     "output_type": "execute_result"
    }
   ],
   "source": [
    "df.head()"
   ]
  },
  {
   "cell_type": "code",
   "execution_count": 4,
   "metadata": {},
   "outputs": [
    {
     "name": "stdout",
     "output_type": "stream",
     "text": [
      "Index(['title', 'body', 'bullets'], dtype='object')\n"
     ]
    }
   ],
   "source": [
    "print(df.columns)"
   ]
  },
  {
   "cell_type": "markdown",
   "metadata": {},
   "source": [
    "Create tokenizer"
   ]
  },
  {
   "cell_type": "code",
   "execution_count": 5,
   "metadata": {},
   "outputs": [],
   "source": [
    "vectorizer = TfidfVectorizer(stop_words='english')"
   ]
  },
  {
   "cell_type": "markdown",
   "metadata": {},
   "source": [
    "Tokenize bodies"
   ]
  },
  {
   "cell_type": "code",
   "execution_count": 6,
   "metadata": {},
   "outputs": [
    {
     "data": {
      "text/plain": [
       "(1328, 19003)"
      ]
     },
     "execution_count": 6,
     "metadata": {},
     "output_type": "execute_result"
    }
   ],
   "source": [
    "tokens = vectorizer.fit_transform(df['body'])\n",
    "token_matrix = tokens.toarray()\n",
    "token_matrix.shape"
   ]
  },
  {
   "cell_type": "markdown",
   "metadata": {},
   "source": [
    "TFIDF"
   ]
  },
  {
   "cell_type": "code",
   "execution_count": 7,
   "metadata": {},
   "outputs": [
    {
     "data": {
      "text/plain": [
       "(1328, 19003)"
      ]
     },
     "execution_count": 7,
     "metadata": {},
     "output_type": "execute_result"
    }
   ],
   "source": [
    "df2 = pd.DataFrame(token_matrix, columns = vectorizer.get_feature_names())\n",
    "df2.shape"
   ]
  },
  {
   "cell_type": "markdown",
   "metadata": {},
   "source": [
    "Cosines"
   ]
  },
  {
   "cell_type": "code",
   "execution_count": 8,
   "metadata": {
    "scrolled": true
   },
   "outputs": [
    {
     "name": "stdout",
     "output_type": "stream",
     "text": [
      "[1.         0.11299447 0.10744324 ... 0.14479813 0.04623131 0.08948497]\n"
     ]
    }
   ],
   "source": [
    "similarities = token_matrix @ token_matrix[0]\n",
    "print(similarities)"
   ]
  },
  {
   "cell_type": "code",
   "execution_count": 30,
   "metadata": {},
   "outputs": [
    {
     "name": "stdout",
     "output_type": "stream",
     "text": [
      "title                     Data Engineer - Columbus, GA 31909\n",
      "body       Data Engineer - Columbus, GA 31909\\nCelebratin...\n",
      "bullets    (Bachelor’s or Master’s degree in statistics, ...\n",
      "Name: 0, dtype: object\n",
      "\n",
      "title          Lead Data Scientist - San Francisco, CA 94105\n",
      "body       Lead Data Scientist - San Francisco, CA 94105\\...\n",
      "bullets    (Build, deploy, and monitor predictive models ...\n",
      "Name: 949, dtype: object\n"
     ]
    }
   ],
   "source": [
    "most_similar_index = np.argsort(similarities)[-2]\n",
    "similarity_index = similarities[most_similar_index]\n",
    "print(df.loc[0])\n",
    "print()\n",
    "print(df.loc[most_similar_index])"
   ]
  },
  {
   "cell_type": "code",
   "execution_count": 10,
   "metadata": {},
   "outputs": [
    {
     "data": {
      "text/plain": [
       "(1328, 100)"
      ]
     },
     "execution_count": 10,
     "metadata": {},
     "output_type": "execute_result"
    }
   ],
   "source": [
    "shrunk_matrix = TruncatedSVD(n_components=100).fit_transform(token_matrix)\n",
    "shrunk_matrix.shape"
   ]
  },
  {
   "cell_type": "code",
   "execution_count": 11,
   "metadata": {},
   "outputs": [
    {
     "data": {
      "text/plain": [
       "0.5143164895819115"
      ]
     },
     "execution_count": 11,
     "metadata": {},
     "output_type": "execute_result"
    }
   ],
   "source": [
    "np.linalg.norm(shrunk_matrix[0])"
   ]
  },
  {
   "cell_type": "code",
   "execution_count": 12,
   "metadata": {},
   "outputs": [
    {
     "data": {
      "text/plain": [
       "0.9999999999999999"
      ]
     },
     "execution_count": 12,
     "metadata": {},
     "output_type": "execute_result"
    }
   ],
   "source": [
    "shrunk_matrix = normalize(shrunk_matrix)\n",
    "np.linalg.norm(shrunk_matrix[0])"
   ]
  },
  {
   "cell_type": "code",
   "execution_count": 15,
   "metadata": {},
   "outputs": [
    {
     "name": "stdout",
     "output_type": "stream",
     "text": [
      "[[1.         0.39520786 0.51268481 ... 0.52962179 0.2077426  0.15667034]\n",
      " [0.39520786 1.         0.35075227 ... 0.42295605 0.24586456 0.22662674]\n",
      " [0.51268481 0.35075227 1.         ... 0.52613312 0.27394351 0.22472543]\n",
      " ...\n",
      " [0.52962179 0.42295605 0.52613312 ... 1.         0.38490832 0.30895069]\n",
      " [0.2077426  0.24586456 0.27394351 ... 0.38490832 1.         0.13515973]\n",
      " [0.15667034 0.22662674 0.22472543 ... 0.30895069 0.13515973 1.        ]]\n"
     ]
    }
   ],
   "source": [
    "similarity_matrix = shrunk_matrix @ shrunk_matrix.T\n",
    "print(similarity_matrix)"
   ]
  },
  {
   "cell_type": "code",
   "execution_count": 33,
   "metadata": {},
   "outputs": [
    {
     "name": "stdout",
     "output_type": "stream",
     "text": [
      "The documents at indices 1278 and 298 share a cosine similarity of 0.99\n",
      "\n",
      "title              TG Shift Supervisor - Blue Lake, CA 95525\n",
      "body       TG Shift Supervisor - Blue Lake, CA 95525\\nBlu...\n",
      "bullets    (Enforces performance standards, policies and ...\n",
      "Name: 1278, dtype: object\n",
      "\n",
      "title                 Data & Applied Scientist - Redmond, WA\n",
      "body       Data & Applied Scientist - Redmond, WA\\nAI for...\n",
      "bullets    (Completed Master’s Degree in a quantitative f...\n",
      "Name: 298, dtype: object\n"
     ]
    }
   ],
   "source": [
    "# np.random.seed(1)\n",
    "index1 = np.random.randint(len(df))\n",
    "index2 = np.argsort(similarity_matrix[index1])[-2]\n",
    "similarity = similarity_matrix[index1][index2]\n",
    "print(f\"The documents at indices {index1} and {index2} share a cosine similarity of {similarity:.2f}\")\n",
    "print()\n",
    "print(df.loc[index1])\n",
    "print()\n",
    "print(df.loc[index2])"
   ]
  }
 ],
 "metadata": {
  "kernelspec": {
   "display_name": "Python 3",
   "language": "python",
   "name": "python3"
  },
  "language_info": {
   "codemirror_mode": {
    "name": "ipython",
    "version": 3
   },
   "file_extension": ".py",
   "mimetype": "text/x-python",
   "name": "python",
   "nbconvert_exporter": "python",
   "pygments_lexer": "ipython3",
   "version": "3.7.4"
  }
 },
 "nbformat": 4,
 "nbformat_minor": 2
}
